{
 "cells": [
  {
   "cell_type": "markdown",
   "metadata": {},
   "source": [
    "## How to import time series data from Refinitiv Eikon API"
   ]
  },
  {
   "cell_type": "markdown",
   "metadata": {},
   "source": [
    "1. Import libraries"
   ]
  },
  {
   "cell_type": "code",
   "execution_count": 18,
   "metadata": {},
   "outputs": [],
   "source": [
    "import eikon as ek\n",
    "import pandas as pd"
   ]
  },
  {
   "cell_type": "markdown",
   "metadata": {},
   "source": [
    "2. Start up the Refinitiv Eikon Desktop application, then set the app key below"
   ]
  },
  {
   "cell_type": "code",
   "execution_count": 3,
   "metadata": {},
   "outputs": [],
   "source": [
    "ek.set_app_key('b6996de4c3da42159e313332560417e1f67288ca')"
   ]
  },
  {
   "cell_type": "markdown",
   "metadata": {},
   "source": [
    "3. Set our symbols"
   ]
  },
  {
   "cell_type": "code",
   "execution_count": 4,
   "metadata": {},
   "outputs": [],
   "source": [
    "symbols = ['AAPL.O']"
   ]
  },
  {
   "cell_type": "markdown",
   "metadata": {},
   "source": [
    "4. Get our data"
   ]
  },
  {
   "cell_type": "code",
   "execution_count": 16,
   "metadata": {},
   "outputs": [],
   "source": [
    "data = ek.get_timeseries(symbols,\n",
    "                         start_date = '2021-01-01',\n",
    "                         end_date = '2022-03-24',\n",
    "                         interval='minute',\n",
    "                         fields=['*'])"
   ]
  },
  {
   "cell_type": "code",
   "execution_count": 24,
   "metadata": {},
   "outputs": [
    {
     "data": {
      "text/html": [
       "<div>\n",
       "<style scoped>\n",
       "    .dataframe tbody tr th:only-of-type {\n",
       "        vertical-align: middle;\n",
       "    }\n",
       "\n",
       "    .dataframe tbody tr th {\n",
       "        vertical-align: top;\n",
       "    }\n",
       "\n",
       "    .dataframe thead th {\n",
       "        text-align: right;\n",
       "    }\n",
       "</style>\n",
       "<table border=\"1\" class=\"dataframe\">\n",
       "  <thead>\n",
       "    <tr style=\"text-align: right;\">\n",
       "      <th>AAPL.O</th>\n",
       "      <th>HIGH</th>\n",
       "      <th>LOW</th>\n",
       "      <th>OPEN</th>\n",
       "      <th>CLOSE</th>\n",
       "      <th>COUNT</th>\n",
       "      <th>VOLUME</th>\n",
       "    </tr>\n",
       "  </thead>\n",
       "  <tbody>\n",
       "    <tr>\n",
       "      <th>count</th>\n",
       "      <td>50000.000000</td>\n",
       "      <td>50000.000000</td>\n",
       "      <td>50000.000000</td>\n",
       "      <td>50000.000000</td>\n",
       "      <td>50000.000000</td>\n",
       "      <td>5.000000e+04</td>\n",
       "    </tr>\n",
       "    <tr>\n",
       "      <th>mean</th>\n",
       "      <td>166.628884</td>\n",
       "      <td>166.432149</td>\n",
       "      <td>166.534288</td>\n",
       "      <td>166.533962</td>\n",
       "      <td>847.654700</td>\n",
       "      <td>9.930146e+04</td>\n",
       "    </tr>\n",
       "    <tr>\n",
       "      <th>std</th>\n",
       "      <td>6.314160</td>\n",
       "      <td>6.354434</td>\n",
       "      <td>6.329535</td>\n",
       "      <td>6.329614</td>\n",
       "      <td>1373.100586</td>\n",
       "      <td>3.485259e+05</td>\n",
       "    </tr>\n",
       "    <tr>\n",
       "      <th>min</th>\n",
       "      <td>149.000000</td>\n",
       "      <td>126.200000</td>\n",
       "      <td>148.940000</td>\n",
       "      <td>149.000000</td>\n",
       "      <td>1.000000</td>\n",
       "      <td>1.000000e+00</td>\n",
       "    </tr>\n",
       "    <tr>\n",
       "      <th>25%</th>\n",
       "      <td>162.030000</td>\n",
       "      <td>161.817425</td>\n",
       "      <td>161.940000</td>\n",
       "      <td>161.935675</td>\n",
       "      <td>25.000000</td>\n",
       "      <td>8.130000e+02</td>\n",
       "    </tr>\n",
       "    <tr>\n",
       "      <th>50%</th>\n",
       "      <td>166.700000</td>\n",
       "      <td>166.490000</td>\n",
       "      <td>166.600000</td>\n",
       "      <td>166.600000</td>\n",
       "      <td>107.000000</td>\n",
       "      <td>7.271000e+03</td>\n",
       "    </tr>\n",
       "    <tr>\n",
       "      <th>75%</th>\n",
       "      <td>172.250000</td>\n",
       "      <td>172.110000</td>\n",
       "      <td>172.190000</td>\n",
       "      <td>172.190000</td>\n",
       "      <td>1375.000000</td>\n",
       "      <td>1.416705e+05</td>\n",
       "    </tr>\n",
       "    <tr>\n",
       "      <th>max</th>\n",
       "      <td>181.856023</td>\n",
       "      <td>176.980000</td>\n",
       "      <td>177.079100</td>\n",
       "      <td>177.071100</td>\n",
       "      <td>41898.000000</td>\n",
       "      <td>2.421336e+07</td>\n",
       "    </tr>\n",
       "  </tbody>\n",
       "</table>\n",
       "</div>"
      ],
      "text/plain": [
       "AAPL.O          HIGH           LOW          OPEN         CLOSE         COUNT  \\\n",
       "count   50000.000000  50000.000000  50000.000000  50000.000000  50000.000000   \n",
       "mean      166.628884    166.432149    166.534288    166.533962    847.654700   \n",
       "std         6.314160      6.354434      6.329535      6.329614   1373.100586   \n",
       "min       149.000000    126.200000    148.940000    149.000000      1.000000   \n",
       "25%       162.030000    161.817425    161.940000    161.935675     25.000000   \n",
       "50%       166.700000    166.490000    166.600000    166.600000    107.000000   \n",
       "75%       172.250000    172.110000    172.190000    172.190000   1375.000000   \n",
       "max       181.856023    176.980000    177.079100    177.071100  41898.000000   \n",
       "\n",
       "AAPL.O        VOLUME  \n",
       "count   5.000000e+04  \n",
       "mean    9.930146e+04  \n",
       "std     3.485259e+05  \n",
       "min     1.000000e+00  \n",
       "25%     8.130000e+02  \n",
       "50%     7.271000e+03  \n",
       "75%     1.416705e+05  \n",
       "max     2.421336e+07  "
      ]
     },
     "execution_count": 24,
     "metadata": {},
     "output_type": "execute_result"
    }
   ],
   "source": [
    "dataset = data\n",
    "dataset.describe()"
   ]
  },
  {
   "cell_type": "code",
   "execution_count": 25,
   "metadata": {},
   "outputs": [
    {
     "data": {
      "text/html": [
       "<div>\n",
       "<style scoped>\n",
       "    .dataframe tbody tr th:only-of-type {\n",
       "        vertical-align: middle;\n",
       "    }\n",
       "\n",
       "    .dataframe tbody tr th {\n",
       "        vertical-align: top;\n",
       "    }\n",
       "\n",
       "    .dataframe thead th {\n",
       "        text-align: right;\n",
       "    }\n",
       "</style>\n",
       "<table border=\"1\" class=\"dataframe\">\n",
       "  <thead>\n",
       "    <tr style=\"text-align: right;\">\n",
       "      <th>AAPL.O</th>\n",
       "      <th>HIGH</th>\n",
       "      <th>LOW</th>\n",
       "      <th>OPEN</th>\n",
       "      <th>CLOSE</th>\n",
       "      <th>COUNT</th>\n",
       "      <th>VOLUME</th>\n",
       "    </tr>\n",
       "    <tr>\n",
       "      <th>Date</th>\n",
       "      <th></th>\n",
       "      <th></th>\n",
       "      <th></th>\n",
       "      <th></th>\n",
       "      <th></th>\n",
       "      <th></th>\n",
       "    </tr>\n",
       "  </thead>\n",
       "  <tbody>\n",
       "    <tr>\n",
       "      <th>2022-01-06 22:35:00</th>\n",
       "      <td>172.35</td>\n",
       "      <td>172.26</td>\n",
       "      <td>172.270</td>\n",
       "      <td>172.305</td>\n",
       "      <td>26</td>\n",
       "      <td>1878</td>\n",
       "    </tr>\n",
       "    <tr>\n",
       "      <th>2022-01-06 22:36:00</th>\n",
       "      <td>172.42</td>\n",
       "      <td>172.30</td>\n",
       "      <td>172.305</td>\n",
       "      <td>172.350</td>\n",
       "      <td>53</td>\n",
       "      <td>3265</td>\n",
       "    </tr>\n",
       "    <tr>\n",
       "      <th>2022-01-06 22:37:00</th>\n",
       "      <td>172.42</td>\n",
       "      <td>172.35</td>\n",
       "      <td>172.355</td>\n",
       "      <td>172.380</td>\n",
       "      <td>20</td>\n",
       "      <td>221</td>\n",
       "    </tr>\n",
       "    <tr>\n",
       "      <th>2022-01-06 22:38:00</th>\n",
       "      <td>172.39</td>\n",
       "      <td>172.28</td>\n",
       "      <td>172.390</td>\n",
       "      <td>172.390</td>\n",
       "      <td>37</td>\n",
       "      <td>674</td>\n",
       "    </tr>\n",
       "    <tr>\n",
       "      <th>2022-01-06 22:39:00</th>\n",
       "      <td>172.39</td>\n",
       "      <td>172.35</td>\n",
       "      <td>172.390</td>\n",
       "      <td>172.350</td>\n",
       "      <td>19</td>\n",
       "      <td>119</td>\n",
       "    </tr>\n",
       "  </tbody>\n",
       "</table>\n",
       "</div>"
      ],
      "text/plain": [
       "AAPL.O                 HIGH     LOW     OPEN    CLOSE  COUNT  VOLUME\n",
       "Date                                                                \n",
       "2022-01-06 22:35:00  172.35  172.26  172.270  172.305     26    1878\n",
       "2022-01-06 22:36:00  172.42  172.30  172.305  172.350     53    3265\n",
       "2022-01-06 22:37:00  172.42  172.35  172.355  172.380     20     221\n",
       "2022-01-06 22:38:00  172.39  172.28  172.390  172.390     37     674\n",
       "2022-01-06 22:39:00  172.39  172.35  172.390  172.350     19     119"
      ]
     },
     "execution_count": 25,
     "metadata": {},
     "output_type": "execute_result"
    }
   ],
   "source": [
    "dataset.head()"
   ]
  },
  {
   "cell_type": "code",
   "execution_count": 26,
   "metadata": {},
   "outputs": [
    {
     "data": {
      "text/html": [
       "<div>\n",
       "<style scoped>\n",
       "    .dataframe tbody tr th:only-of-type {\n",
       "        vertical-align: middle;\n",
       "    }\n",
       "\n",
       "    .dataframe tbody tr th {\n",
       "        vertical-align: top;\n",
       "    }\n",
       "\n",
       "    .dataframe thead th {\n",
       "        text-align: right;\n",
       "    }\n",
       "</style>\n",
       "<table border=\"1\" class=\"dataframe\">\n",
       "  <thead>\n",
       "    <tr style=\"text-align: right;\">\n",
       "      <th>AAPL.O</th>\n",
       "      <th>HIGH</th>\n",
       "      <th>LOW</th>\n",
       "      <th>OPEN</th>\n",
       "      <th>CLOSE</th>\n",
       "      <th>COUNT</th>\n",
       "      <th>VOLUME</th>\n",
       "    </tr>\n",
       "    <tr>\n",
       "      <th>Date</th>\n",
       "      <th></th>\n",
       "      <th></th>\n",
       "      <th></th>\n",
       "      <th></th>\n",
       "      <th></th>\n",
       "      <th></th>\n",
       "    </tr>\n",
       "  </thead>\n",
       "  <tbody>\n",
       "    <tr>\n",
       "      <th>2022-03-23 23:56:00</th>\n",
       "      <td>170.53</td>\n",
       "      <td>170.49</td>\n",
       "      <td>170.5300</td>\n",
       "      <td>170.50</td>\n",
       "      <td>25</td>\n",
       "      <td>4592</td>\n",
       "    </tr>\n",
       "    <tr>\n",
       "      <th>2022-03-23 23:57:00</th>\n",
       "      <td>170.50</td>\n",
       "      <td>170.47</td>\n",
       "      <td>170.5000</td>\n",
       "      <td>170.50</td>\n",
       "      <td>23</td>\n",
       "      <td>6848</td>\n",
       "    </tr>\n",
       "    <tr>\n",
       "      <th>2022-03-23 23:58:00</th>\n",
       "      <td>170.64</td>\n",
       "      <td>170.49</td>\n",
       "      <td>170.5200</td>\n",
       "      <td>170.63</td>\n",
       "      <td>45</td>\n",
       "      <td>4585</td>\n",
       "    </tr>\n",
       "    <tr>\n",
       "      <th>2022-03-23 23:59:00</th>\n",
       "      <td>170.64</td>\n",
       "      <td>170.56</td>\n",
       "      <td>170.6399</td>\n",
       "      <td>170.60</td>\n",
       "      <td>23</td>\n",
       "      <td>2362</td>\n",
       "    </tr>\n",
       "    <tr>\n",
       "      <th>2022-03-24 00:00:00</th>\n",
       "      <td>170.69</td>\n",
       "      <td>170.63</td>\n",
       "      <td>170.6300</td>\n",
       "      <td>170.69</td>\n",
       "      <td>71</td>\n",
       "      <td>5443</td>\n",
       "    </tr>\n",
       "  </tbody>\n",
       "</table>\n",
       "</div>"
      ],
      "text/plain": [
       "AAPL.O                 HIGH     LOW      OPEN   CLOSE  COUNT  VOLUME\n",
       "Date                                                                \n",
       "2022-03-23 23:56:00  170.53  170.49  170.5300  170.50     25    4592\n",
       "2022-03-23 23:57:00  170.50  170.47  170.5000  170.50     23    6848\n",
       "2022-03-23 23:58:00  170.64  170.49  170.5200  170.63     45    4585\n",
       "2022-03-23 23:59:00  170.64  170.56  170.6399  170.60     23    2362\n",
       "2022-03-24 00:00:00  170.69  170.63  170.6300  170.69     71    5443"
      ]
     },
     "execution_count": 26,
     "metadata": {},
     "output_type": "execute_result"
    }
   ],
   "source": [
    "dataset.tail()"
   ]
  },
  {
   "cell_type": "markdown",
   "metadata": {},
   "source": [
    "It would appear that the minute data is severly limited. To make up for this, we're going to have to scrape a bunch of symbols and compile all their data. The next task therefor is to compile a list of all these tickers and then create our targets."
   ]
  }
 ],
 "metadata": {
  "kernelspec": {
   "display_name": "Python 3",
   "language": "python",
   "name": "python3"
  },
  "language_info": {
   "codemirror_mode": {
    "name": "ipython",
    "version": 3
   },
   "file_extension": ".py",
   "mimetype": "text/x-python",
   "name": "python",
   "nbconvert_exporter": "python",
   "pygments_lexer": "ipython3",
   "version": "3.8.5"
  }
 },
 "nbformat": 4,
 "nbformat_minor": 4
}
